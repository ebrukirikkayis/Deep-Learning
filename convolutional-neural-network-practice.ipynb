{
 "cells": [
  {
   "cell_type": "code",
   "execution_count": 1,
   "id": "1cb054f6",
   "metadata": {
    "_cell_guid": "b1076dfc-b9ad-4769-8c92-a6c4dae69d19",
    "_uuid": "8f2839f25d086af736a60e9eeb907d3b93b6e0e5",
    "execution": {
     "iopub.execute_input": "2022-08-28T13:05:39.267744Z",
     "iopub.status.busy": "2022-08-28T13:05:39.267021Z",
     "iopub.status.idle": "2022-08-28T13:05:40.679508Z",
     "shell.execute_reply": "2022-08-28T13:05:40.677536Z"
    },
    "papermill": {
     "duration": 1.427666,
     "end_time": "2022-08-28T13:05:40.685996",
     "exception": false,
     "start_time": "2022-08-28T13:05:39.258330",
     "status": "completed"
    },
    "tags": []
   },
   "outputs": [
    {
     "name": "stdout",
     "output_type": "stream",
     "text": [
      "/kaggle/input/digit-recognizer/sample_submission.csv\n",
      "/kaggle/input/digit-recognizer/train.csv\n",
      "/kaggle/input/digit-recognizer/test.csv\n"
     ]
    }
   ],
   "source": [
    "# This Python 3 environment comes with many helpful analytics libraries installed\n",
    "# It is defined by the kaggle/python Docker image: https://github.com/kaggle/docker-python\n",
    "# For example, here's several helpful packages to load\n",
    "\n",
    "import numpy as np # linear algebra\n",
    "import pandas as pd # data processing, CSV file I/O (e.g. pd.read_csv)\n",
    "\n",
    "# Input data files are available in the read-only \"../input/\" directory\n",
    "# For example, running this (by clicking run or pressing Shift+Enter) will list all files under the input directory\n",
    "import seaborn as sns\n",
    "import matplotlib.pyplot as plt\n",
    "\n",
    "import warnings\n",
    "warnings.filterwarnings('ignore')\n",
    "\n",
    "import os\n",
    "for dirname, _, filenames in os.walk('/kaggle/input'):\n",
    "    for filename in filenames:\n",
    "        print(os.path.join(dirname, filename))\n",
    "\n",
    "# You can write up to 20GB to the current directory (/kaggle/working/) that gets preserved as output when you create a version using \"Save & Run All\" \n",
    "# You can also write temporary files to /kaggle/temp/, but they won't be saved outside of the current session"
   ]
  },
  {
   "cell_type": "markdown",
   "id": "d9466bb1",
   "metadata": {
    "papermill": {
     "duration": 0.007893,
     "end_time": "2022-08-28T13:05:40.702547",
     "exception": false,
     "start_time": "2022-08-28T13:05:40.694654",
     "status": "completed"
    },
    "tags": []
   },
   "source": [
    "## Loading the data set"
   ]
  },
  {
   "cell_type": "code",
   "execution_count": 2,
   "id": "e9fe7e15",
   "metadata": {
    "execution": {
     "iopub.execute_input": "2022-08-28T13:05:40.718986Z",
     "iopub.status.busy": "2022-08-28T13:05:40.717788Z",
     "iopub.status.idle": "2022-08-28T13:05:44.714913Z",
     "shell.execute_reply": "2022-08-28T13:05:44.713145Z"
    },
    "papermill": {
     "duration": 4.007791,
     "end_time": "2022-08-28T13:05:44.717754",
     "exception": false,
     "start_time": "2022-08-28T13:05:40.709963",
     "status": "completed"
    },
    "tags": []
   },
   "outputs": [
    {
     "name": "stdout",
     "output_type": "stream",
     "text": [
      "(42000, 785)\n"
     ]
    },
    {
     "data": {
      "text/html": [
       "<div>\n",
       "<style scoped>\n",
       "    .dataframe tbody tr th:only-of-type {\n",
       "        vertical-align: middle;\n",
       "    }\n",
       "\n",
       "    .dataframe tbody tr th {\n",
       "        vertical-align: top;\n",
       "    }\n",
       "\n",
       "    .dataframe thead th {\n",
       "        text-align: right;\n",
       "    }\n",
       "</style>\n",
       "<table border=\"1\" class=\"dataframe\">\n",
       "  <thead>\n",
       "    <tr style=\"text-align: right;\">\n",
       "      <th></th>\n",
       "      <th>label</th>\n",
       "      <th>pixel0</th>\n",
       "      <th>pixel1</th>\n",
       "      <th>pixel2</th>\n",
       "      <th>pixel3</th>\n",
       "      <th>pixel4</th>\n",
       "      <th>pixel5</th>\n",
       "      <th>pixel6</th>\n",
       "      <th>pixel7</th>\n",
       "      <th>pixel8</th>\n",
       "      <th>...</th>\n",
       "      <th>pixel774</th>\n",
       "      <th>pixel775</th>\n",
       "      <th>pixel776</th>\n",
       "      <th>pixel777</th>\n",
       "      <th>pixel778</th>\n",
       "      <th>pixel779</th>\n",
       "      <th>pixel780</th>\n",
       "      <th>pixel781</th>\n",
       "      <th>pixel782</th>\n",
       "      <th>pixel783</th>\n",
       "    </tr>\n",
       "  </thead>\n",
       "  <tbody>\n",
       "    <tr>\n",
       "      <th>0</th>\n",
       "      <td>1</td>\n",
       "      <td>0</td>\n",
       "      <td>0</td>\n",
       "      <td>0</td>\n",
       "      <td>0</td>\n",
       "      <td>0</td>\n",
       "      <td>0</td>\n",
       "      <td>0</td>\n",
       "      <td>0</td>\n",
       "      <td>0</td>\n",
       "      <td>...</td>\n",
       "      <td>0</td>\n",
       "      <td>0</td>\n",
       "      <td>0</td>\n",
       "      <td>0</td>\n",
       "      <td>0</td>\n",
       "      <td>0</td>\n",
       "      <td>0</td>\n",
       "      <td>0</td>\n",
       "      <td>0</td>\n",
       "      <td>0</td>\n",
       "    </tr>\n",
       "    <tr>\n",
       "      <th>1</th>\n",
       "      <td>0</td>\n",
       "      <td>0</td>\n",
       "      <td>0</td>\n",
       "      <td>0</td>\n",
       "      <td>0</td>\n",
       "      <td>0</td>\n",
       "      <td>0</td>\n",
       "      <td>0</td>\n",
       "      <td>0</td>\n",
       "      <td>0</td>\n",
       "      <td>...</td>\n",
       "      <td>0</td>\n",
       "      <td>0</td>\n",
       "      <td>0</td>\n",
       "      <td>0</td>\n",
       "      <td>0</td>\n",
       "      <td>0</td>\n",
       "      <td>0</td>\n",
       "      <td>0</td>\n",
       "      <td>0</td>\n",
       "      <td>0</td>\n",
       "    </tr>\n",
       "    <tr>\n",
       "      <th>2</th>\n",
       "      <td>1</td>\n",
       "      <td>0</td>\n",
       "      <td>0</td>\n",
       "      <td>0</td>\n",
       "      <td>0</td>\n",
       "      <td>0</td>\n",
       "      <td>0</td>\n",
       "      <td>0</td>\n",
       "      <td>0</td>\n",
       "      <td>0</td>\n",
       "      <td>...</td>\n",
       "      <td>0</td>\n",
       "      <td>0</td>\n",
       "      <td>0</td>\n",
       "      <td>0</td>\n",
       "      <td>0</td>\n",
       "      <td>0</td>\n",
       "      <td>0</td>\n",
       "      <td>0</td>\n",
       "      <td>0</td>\n",
       "      <td>0</td>\n",
       "    </tr>\n",
       "    <tr>\n",
       "      <th>3</th>\n",
       "      <td>4</td>\n",
       "      <td>0</td>\n",
       "      <td>0</td>\n",
       "      <td>0</td>\n",
       "      <td>0</td>\n",
       "      <td>0</td>\n",
       "      <td>0</td>\n",
       "      <td>0</td>\n",
       "      <td>0</td>\n",
       "      <td>0</td>\n",
       "      <td>...</td>\n",
       "      <td>0</td>\n",
       "      <td>0</td>\n",
       "      <td>0</td>\n",
       "      <td>0</td>\n",
       "      <td>0</td>\n",
       "      <td>0</td>\n",
       "      <td>0</td>\n",
       "      <td>0</td>\n",
       "      <td>0</td>\n",
       "      <td>0</td>\n",
       "    </tr>\n",
       "    <tr>\n",
       "      <th>4</th>\n",
       "      <td>0</td>\n",
       "      <td>0</td>\n",
       "      <td>0</td>\n",
       "      <td>0</td>\n",
       "      <td>0</td>\n",
       "      <td>0</td>\n",
       "      <td>0</td>\n",
       "      <td>0</td>\n",
       "      <td>0</td>\n",
       "      <td>0</td>\n",
       "      <td>...</td>\n",
       "      <td>0</td>\n",
       "      <td>0</td>\n",
       "      <td>0</td>\n",
       "      <td>0</td>\n",
       "      <td>0</td>\n",
       "      <td>0</td>\n",
       "      <td>0</td>\n",
       "      <td>0</td>\n",
       "      <td>0</td>\n",
       "      <td>0</td>\n",
       "    </tr>\n",
       "  </tbody>\n",
       "</table>\n",
       "<p>5 rows × 785 columns</p>\n",
       "</div>"
      ],
      "text/plain": [
       "   label  pixel0  pixel1  pixel2  pixel3  pixel4  pixel5  pixel6  pixel7  \\\n",
       "0      1       0       0       0       0       0       0       0       0   \n",
       "1      0       0       0       0       0       0       0       0       0   \n",
       "2      1       0       0       0       0       0       0       0       0   \n",
       "3      4       0       0       0       0       0       0       0       0   \n",
       "4      0       0       0       0       0       0       0       0       0   \n",
       "\n",
       "   pixel8  ...  pixel774  pixel775  pixel776  pixel777  pixel778  pixel779  \\\n",
       "0       0  ...         0         0         0         0         0         0   \n",
       "1       0  ...         0         0         0         0         0         0   \n",
       "2       0  ...         0         0         0         0         0         0   \n",
       "3       0  ...         0         0         0         0         0         0   \n",
       "4       0  ...         0         0         0         0         0         0   \n",
       "\n",
       "   pixel780  pixel781  pixel782  pixel783  \n",
       "0         0         0         0         0  \n",
       "1         0         0         0         0  \n",
       "2         0         0         0         0  \n",
       "3         0         0         0         0  \n",
       "4         0         0         0         0  \n",
       "\n",
       "[5 rows x 785 columns]"
      ]
     },
     "execution_count": 2,
     "metadata": {},
     "output_type": "execute_result"
    }
   ],
   "source": [
    "train= pd.read_csv(\"../input/digit-recognizer/train.csv\")\n",
    "print(train.shape)\n",
    "train.head()"
   ]
  },
  {
   "cell_type": "code",
   "execution_count": 3,
   "id": "6e1d72ae",
   "metadata": {
    "execution": {
     "iopub.execute_input": "2022-08-28T13:05:44.731338Z",
     "iopub.status.busy": "2022-08-28T13:05:44.730838Z",
     "iopub.status.idle": "2022-08-28T13:05:46.789697Z",
     "shell.execute_reply": "2022-08-28T13:05:46.788032Z"
    },
    "papermill": {
     "duration": 2.06938,
     "end_time": "2022-08-28T13:05:46.792582",
     "exception": false,
     "start_time": "2022-08-28T13:05:44.723202",
     "status": "completed"
    },
    "tags": []
   },
   "outputs": [
    {
     "name": "stdout",
     "output_type": "stream",
     "text": [
      "(28000, 784)\n"
     ]
    },
    {
     "data": {
      "text/html": [
       "<div>\n",
       "<style scoped>\n",
       "    .dataframe tbody tr th:only-of-type {\n",
       "        vertical-align: middle;\n",
       "    }\n",
       "\n",
       "    .dataframe tbody tr th {\n",
       "        vertical-align: top;\n",
       "    }\n",
       "\n",
       "    .dataframe thead th {\n",
       "        text-align: right;\n",
       "    }\n",
       "</style>\n",
       "<table border=\"1\" class=\"dataframe\">\n",
       "  <thead>\n",
       "    <tr style=\"text-align: right;\">\n",
       "      <th></th>\n",
       "      <th>pixel0</th>\n",
       "      <th>pixel1</th>\n",
       "      <th>pixel2</th>\n",
       "      <th>pixel3</th>\n",
       "      <th>pixel4</th>\n",
       "      <th>pixel5</th>\n",
       "      <th>pixel6</th>\n",
       "      <th>pixel7</th>\n",
       "      <th>pixel8</th>\n",
       "      <th>pixel9</th>\n",
       "      <th>...</th>\n",
       "      <th>pixel774</th>\n",
       "      <th>pixel775</th>\n",
       "      <th>pixel776</th>\n",
       "      <th>pixel777</th>\n",
       "      <th>pixel778</th>\n",
       "      <th>pixel779</th>\n",
       "      <th>pixel780</th>\n",
       "      <th>pixel781</th>\n",
       "      <th>pixel782</th>\n",
       "      <th>pixel783</th>\n",
       "    </tr>\n",
       "  </thead>\n",
       "  <tbody>\n",
       "    <tr>\n",
       "      <th>0</th>\n",
       "      <td>0</td>\n",
       "      <td>0</td>\n",
       "      <td>0</td>\n",
       "      <td>0</td>\n",
       "      <td>0</td>\n",
       "      <td>0</td>\n",
       "      <td>0</td>\n",
       "      <td>0</td>\n",
       "      <td>0</td>\n",
       "      <td>0</td>\n",
       "      <td>...</td>\n",
       "      <td>0</td>\n",
       "      <td>0</td>\n",
       "      <td>0</td>\n",
       "      <td>0</td>\n",
       "      <td>0</td>\n",
       "      <td>0</td>\n",
       "      <td>0</td>\n",
       "      <td>0</td>\n",
       "      <td>0</td>\n",
       "      <td>0</td>\n",
       "    </tr>\n",
       "    <tr>\n",
       "      <th>1</th>\n",
       "      <td>0</td>\n",
       "      <td>0</td>\n",
       "      <td>0</td>\n",
       "      <td>0</td>\n",
       "      <td>0</td>\n",
       "      <td>0</td>\n",
       "      <td>0</td>\n",
       "      <td>0</td>\n",
       "      <td>0</td>\n",
       "      <td>0</td>\n",
       "      <td>...</td>\n",
       "      <td>0</td>\n",
       "      <td>0</td>\n",
       "      <td>0</td>\n",
       "      <td>0</td>\n",
       "      <td>0</td>\n",
       "      <td>0</td>\n",
       "      <td>0</td>\n",
       "      <td>0</td>\n",
       "      <td>0</td>\n",
       "      <td>0</td>\n",
       "    </tr>\n",
       "    <tr>\n",
       "      <th>2</th>\n",
       "      <td>0</td>\n",
       "      <td>0</td>\n",
       "      <td>0</td>\n",
       "      <td>0</td>\n",
       "      <td>0</td>\n",
       "      <td>0</td>\n",
       "      <td>0</td>\n",
       "      <td>0</td>\n",
       "      <td>0</td>\n",
       "      <td>0</td>\n",
       "      <td>...</td>\n",
       "      <td>0</td>\n",
       "      <td>0</td>\n",
       "      <td>0</td>\n",
       "      <td>0</td>\n",
       "      <td>0</td>\n",
       "      <td>0</td>\n",
       "      <td>0</td>\n",
       "      <td>0</td>\n",
       "      <td>0</td>\n",
       "      <td>0</td>\n",
       "    </tr>\n",
       "    <tr>\n",
       "      <th>3</th>\n",
       "      <td>0</td>\n",
       "      <td>0</td>\n",
       "      <td>0</td>\n",
       "      <td>0</td>\n",
       "      <td>0</td>\n",
       "      <td>0</td>\n",
       "      <td>0</td>\n",
       "      <td>0</td>\n",
       "      <td>0</td>\n",
       "      <td>0</td>\n",
       "      <td>...</td>\n",
       "      <td>0</td>\n",
       "      <td>0</td>\n",
       "      <td>0</td>\n",
       "      <td>0</td>\n",
       "      <td>0</td>\n",
       "      <td>0</td>\n",
       "      <td>0</td>\n",
       "      <td>0</td>\n",
       "      <td>0</td>\n",
       "      <td>0</td>\n",
       "    </tr>\n",
       "    <tr>\n",
       "      <th>4</th>\n",
       "      <td>0</td>\n",
       "      <td>0</td>\n",
       "      <td>0</td>\n",
       "      <td>0</td>\n",
       "      <td>0</td>\n",
       "      <td>0</td>\n",
       "      <td>0</td>\n",
       "      <td>0</td>\n",
       "      <td>0</td>\n",
       "      <td>0</td>\n",
       "      <td>...</td>\n",
       "      <td>0</td>\n",
       "      <td>0</td>\n",
       "      <td>0</td>\n",
       "      <td>0</td>\n",
       "      <td>0</td>\n",
       "      <td>0</td>\n",
       "      <td>0</td>\n",
       "      <td>0</td>\n",
       "      <td>0</td>\n",
       "      <td>0</td>\n",
       "    </tr>\n",
       "  </tbody>\n",
       "</table>\n",
       "<p>5 rows × 784 columns</p>\n",
       "</div>"
      ],
      "text/plain": [
       "   pixel0  pixel1  pixel2  pixel3  pixel4  pixel5  pixel6  pixel7  pixel8  \\\n",
       "0       0       0       0       0       0       0       0       0       0   \n",
       "1       0       0       0       0       0       0       0       0       0   \n",
       "2       0       0       0       0       0       0       0       0       0   \n",
       "3       0       0       0       0       0       0       0       0       0   \n",
       "4       0       0       0       0       0       0       0       0       0   \n",
       "\n",
       "   pixel9  ...  pixel774  pixel775  pixel776  pixel777  pixel778  pixel779  \\\n",
       "0       0  ...         0         0         0         0         0         0   \n",
       "1       0  ...         0         0         0         0         0         0   \n",
       "2       0  ...         0         0         0         0         0         0   \n",
       "3       0  ...         0         0         0         0         0         0   \n",
       "4       0  ...         0         0         0         0         0         0   \n",
       "\n",
       "   pixel780  pixel781  pixel782  pixel783  \n",
       "0         0         0         0         0  \n",
       "1         0         0         0         0  \n",
       "2         0         0         0         0  \n",
       "3         0         0         0         0  \n",
       "4         0         0         0         0  \n",
       "\n",
       "[5 rows x 784 columns]"
      ]
     },
     "execution_count": 3,
     "metadata": {},
     "output_type": "execute_result"
    }
   ],
   "source": [
    "test= pd.read_csv(\"../input/digit-recognizer/test.csv\")\n",
    "print(test.shape)\n",
    "test.head()"
   ]
  },
  {
   "cell_type": "code",
   "execution_count": 4,
   "id": "f9d329e8",
   "metadata": {
    "execution": {
     "iopub.execute_input": "2022-08-28T13:05:46.806467Z",
     "iopub.status.busy": "2022-08-28T13:05:46.805957Z",
     "iopub.status.idle": "2022-08-28T13:05:47.002153Z",
     "shell.execute_reply": "2022-08-28T13:05:47.000563Z"
    },
    "papermill": {
     "duration": 0.207056,
     "end_time": "2022-08-28T13:05:47.005612",
     "exception": false,
     "start_time": "2022-08-28T13:05:46.798556",
     "status": "completed"
    },
    "tags": []
   },
   "outputs": [],
   "source": [
    "Y_train= train[\"label\"]\n",
    "X_train= train.drop(labels= [\"label\"], axis=1)\n",
    "# train datasının label sütunu Y_train' atansın \n",
    "# train datasından label sütununun çıkarılmış hali X_train'e atılsın"
   ]
  },
  {
   "cell_type": "code",
   "execution_count": 5,
   "id": "46bf4e01",
   "metadata": {
    "execution": {
     "iopub.execute_input": "2022-08-28T13:05:47.019655Z",
     "iopub.status.busy": "2022-08-28T13:05:47.019056Z",
     "iopub.status.idle": "2022-08-28T13:05:47.355387Z",
     "shell.execute_reply": "2022-08-28T13:05:47.353647Z"
    },
    "papermill": {
     "duration": 0.346506,
     "end_time": "2022-08-28T13:05:47.358182",
     "exception": false,
     "start_time": "2022-08-28T13:05:47.011676",
     "status": "completed"
    },
    "tags": []
   },
   "outputs": [
    {
     "data": {
      "text/plain": [
       "1    4684\n",
       "7    4401\n",
       "3    4351\n",
       "9    4188\n",
       "2    4177\n",
       "6    4137\n",
       "0    4132\n",
       "4    4072\n",
       "8    4063\n",
       "5    3795\n",
       "Name: label, dtype: int64"
      ]
     },
     "execution_count": 5,
     "metadata": {},
     "output_type": "execute_result"
    },
    {
     "data": {
      "image/png": "[encoded data removed]",
      "text/plain": [
       "<Figure size 1080x504 with 1 Axes>"
      ]
     },
     "metadata": {
      "needs_background": "light"
     },
     "output_type": "display_data"
    }
   ],
   "source": [
    "plt.figure(figsize=(15,7))\n",
    "g= sns.countplot(Y_train, palette=\"icefire\")\n",
    "plt.title(\"Number of digits\")\n",
    "Y_train.value_counts()"
   ]
  },
  {
   "cell_type": "code",
   "execution_count": 6,
   "id": "f8ae4eb0",
   "metadata": {
    "execution": {
     "iopub.execute_input": "2022-08-28T13:05:47.372944Z",
     "iopub.status.busy": "2022-08-28T13:05:47.372394Z",
     "iopub.status.idle": "2022-08-28T13:05:47.499351Z",
     "shell.execute_reply": "2022-08-28T13:05:47.497241Z"
    },
    "papermill": {
     "duration": 0.140073,
     "end_time": "2022-08-28T13:05:47.504644",
     "exception": false,
     "start_time": "2022-08-28T13:05:47.364571",
     "status": "completed"
    },
    "tags": []
   },
   "outputs": [
    {
     "data": {
      "image/png": "[encoded data removed]",
      "text/plain": [
       "<Figure size 432x288 with 1 Axes>"
      ]
     },
     "metadata": {
      "needs_background": "light"
     },
     "output_type": "display_data"
    }
   ],
   "source": [
    "img = X_train.iloc[0].to_numpy()\n",
    "img = img.reshape((28,28))\n",
    "plt.imshow(img, cmap='gray')\n",
    "plt.title(train.iloc[0,0])\n",
    "plt.axis(\"off\")\n",
    "plt.show()"
   ]
  },
  {
   "cell_type": "code",
   "execution_count": 7,
   "id": "f3bb6a6f",
   "metadata": {
    "execution": {
     "iopub.execute_input": "2022-08-28T13:05:47.534849Z",
     "iopub.status.busy": "2022-08-28T13:05:47.533687Z",
     "iopub.status.idle": "2022-08-28T13:05:47.739897Z",
     "shell.execute_reply": "2022-08-28T13:05:47.738462Z"
    },
    "papermill": {
     "duration": 0.22163,
     "end_time": "2022-08-28T13:05:47.742960",
     "exception": false,
     "start_time": "2022-08-28T13:05:47.521330",
     "status": "completed"
    },
    "tags": []
   },
   "outputs": [
    {
     "data": {
      "image/png": "[encoded data removed]",
      "text/plain": [
       "<Figure size 432x288 with 1 Axes>"
      ]
     },
     "metadata": {
      "needs_background": "light"
     },
     "output_type": "display_data"
    }
   ],
   "source": [
    "img= X_train.iloc[3].to_numpy()\n",
    "img= img.reshape((28,28))\n",
    "plt.imshow(img, cmap='gray')\n",
    "plt.title(train.iloc[3,0])\n",
    "plt.axis(\"on\")\n",
    "plt.show()"
   ]
  },
  {
   "cell_type": "markdown",
   "id": "30a3e76d",
   "metadata": {
    "papermill": {
     "duration": 0.006491,
     "end_time": "2022-08-28T13:05:47.756066",
     "exception": false,
     "start_time": "2022-08-28T13:05:47.749575",
     "status": "completed"
    },
    "tags": []
   },
   "source": [
    "## Normalization, Reshape and Label Encoding"
   ]
  },
  {
   "cell_type": "markdown",
   "id": "8259a4a2",
   "metadata": {
    "papermill": {
     "duration": 0.005955,
     "end_time": "2022-08-28T13:05:47.768683",
     "exception": false,
     "start_time": "2022-08-28T13:05:47.762728",
     "status": "completed"
    },
    "tags": []
   },
   "source": [
    "#### Normalization\n",
    "* Bir resmi normalize etmek demek onu gray scale içerisine almak demektir. Yani görsel siyah ve beyazdan oluşacaktır.\n",
    "* Normalization yaparak CNN'in daha hızlı çalışmasını sağlarız.\n",
    "<br>\n",
    "<br>\n",
    "\n",
    "#### Reshape\n",
    "* Keras elimizde bulunan 28x28 yani 2 boyutlu matrisleri anlamlandıramaz.\n",
    "* Bu yüzden 3D olarak kullanmalıyız. 28x28x1 , buradaki 1'in anlamı siyah beyaz olmasıdır yani gray scale'i temsil eder, renkli olsaydı 3 verilecekti. Çünkü RGB 3 renk değerine sahiptir.\n",
    "<br>\n",
    "<br>\n",
    "\n",
    "#### Label Encoding\n",
    "* Verideki label'larımızın binary temsil edilişi\n",
    "    * 2 = [0,0,1,0,0,0,0,0,0,0]\n",
    "    * 4 = [0,0,0,0,1,0,0,0,0,0]\n",
    "* Örneğin 2 , 3.indexte bulunmaktadır. Çünkü indexleme 0.dan başlıyor.\n",
    "* Encoding demek Label'ları farklı bir formata çevirmek anlamına gelmektedir."
   ]
  },
  {
   "cell_type": "code",
   "execution_count": 8,
   "id": "08b27202",
   "metadata": {
    "execution": {
     "iopub.execute_input": "2022-08-28T13:05:47.783672Z",
     "iopub.status.busy": "2022-08-28T13:05:47.783136Z",
     "iopub.status.idle": "2022-08-28T13:05:47.962128Z",
     "shell.execute_reply": "2022-08-28T13:05:47.960498Z"
    },
    "papermill": {
     "duration": 0.190368,
     "end_time": "2022-08-28T13:05:47.965319",
     "exception": false,
     "start_time": "2022-08-28T13:05:47.774951",
     "status": "completed"
    },
    "tags": []
   },
   "outputs": [
    {
     "name": "stdout",
     "output_type": "stream",
     "text": [
      "x_train shape:  (42000, 784)\n",
      "test shape:  (28000, 784)\n"
     ]
    }
   ],
   "source": [
    "# Normalize the data\n",
    "# Normalization bir değeri 0-1 aralığına almak anlamına gelmektedir.\n",
    "# Bu veri setinde resimler ile çalışıldığı için veriyi 255'e bölmek yeterli olacaktır çünkü\n",
    "# bir resmin alabileceği max matematiksel değer 255'tir.\n",
    "# Örneğin kırmızı rengin rgb kodu (255,0,0) maxiimum 255 değerini almıştır.\n",
    "# bu yüzden x_train ve test'i 255'e bölerek normalize etmiş oluyoruz.\n",
    "\n",
    "X_train= X_train/255.0\n",
    "test= test/ 255.0\n",
    "print(\"x_train shape: \",X_train.shape)\n",
    "print(\"test shape: \", test.shape)\n",
    "\n",
    "# normalize etmek shape'te bir değişikliğe neden olmamaktadır."
   ]
  },
  {
   "cell_type": "code",
   "execution_count": 9,
   "id": "5d794eec",
   "metadata": {
    "execution": {
     "iopub.execute_input": "2022-08-28T13:05:47.981835Z",
     "iopub.status.busy": "2022-08-28T13:05:47.981086Z",
     "iopub.status.idle": "2022-08-28T13:05:47.990612Z",
     "shell.execute_reply": "2022-08-28T13:05:47.989172Z"
    },
    "papermill": {
     "duration": 0.021864,
     "end_time": "2022-08-28T13:05:47.994544",
     "exception": false,
     "start_time": "2022-08-28T13:05:47.972680",
     "status": "completed"
    },
    "tags": []
   },
   "outputs": [
    {
     "name": "stdout",
     "output_type": "stream",
     "text": [
      "x_train shape: (42000, 28, 28, 1)\n",
      "test shape:  (28000, 28, 28, 1)\n"
     ]
    }
   ],
   "source": [
    "# Reshape\n",
    "X_train = X_train.values.reshape(-1,28,28,1)\n",
    "test= test.values.reshape(-1,28,28,1)\n",
    "print(\"x_train shape:\", X_train.shape)\n",
    "print(\"test shape: \", test.shape)\n",
    "\n",
    "# kaç sample olduğunu belirten bir değeri de içine alarak 4D'ye çeviriyoruz."
   ]
  },
  {
   "cell_type": "code",
   "execution_count": 10,
   "id": "7772dad7",
   "metadata": {
    "execution": {
     "iopub.execute_input": "2022-08-28T13:05:48.011708Z",
     "iopub.status.busy": "2022-08-28T13:05:48.010468Z",
     "iopub.status.idle": "2022-08-28T13:05:55.110106Z",
     "shell.execute_reply": "2022-08-28T13:05:55.108832Z"
    },
    "papermill": {
     "duration": 7.111478,
     "end_time": "2022-08-28T13:05:55.112991",
     "exception": false,
     "start_time": "2022-08-28T13:05:48.001513",
     "status": "completed"
    },
    "tags": []
   },
   "outputs": [],
   "source": [
    "# Label Encoding\n",
    "from keras.utils.np_utils import to_categorical\n",
    "Y_train = to_categorical(Y_train, num_classes= 10)\n",
    "# encoding yapılırken number of class belirtilmek zorunda"
   ]
  },
  {
   "cell_type": "markdown",
   "id": "fa42b193",
   "metadata": {
    "papermill": {
     "duration": 0.006123,
     "end_time": "2022-08-28T13:05:55.125804",
     "exception": false,
     "start_time": "2022-08-28T13:05:55.119681",
     "status": "completed"
    },
    "tags": []
   },
   "source": [
    "## Train Test Split\n",
    "* test size is 10% , train size ise 90% ."
   ]
  },
  {
   "cell_type": "code",
   "execution_count": 11,
   "id": "b12fec85",
   "metadata": {
    "execution": {
     "iopub.execute_input": "2022-08-28T13:05:55.141978Z",
     "iopub.status.busy": "2022-08-28T13:05:55.140689Z",
     "iopub.status.idle": "2022-08-28T13:05:56.062396Z",
     "shell.execute_reply": "2022-08-28T13:05:56.060606Z"
    },
    "papermill": {
     "duration": 0.933388,
     "end_time": "2022-08-28T13:05:56.065649",
     "exception": false,
     "start_time": "2022-08-28T13:05:55.132261",
     "status": "completed"
    },
    "tags": []
   },
   "outputs": [
    {
     "name": "stdout",
     "output_type": "stream",
     "text": [
      "x_train shape (37800, 28, 28, 1)\n",
      "x_val shape (4200, 28, 28, 1)\n",
      "y_train shape (37800, 10)\n",
      "y_val shape (4200, 10)\n"
     ]
    }
   ],
   "source": [
    "from sklearn.model_selection import train_test_split\n",
    "X_train, X_val, Y_train, Y_val = train_test_split(X_train, Y_train, test_size = 0.1, random_state=2)\n",
    "print(\"x_train shape\",X_train.shape)\n",
    "print(\"x_val shape\",X_val.shape)\n",
    "print(\"y_train shape\",Y_train.shape)\n",
    "print(\"y_val shape\",Y_val.shape)\n",
    "\n",
    "# x_train ve x_validation olarak ayırdık\n",
    "# x_train ile model oluşturacaz\n",
    "# x_val ile model test edilecek\n",
    "# gerçek hayatta kullanmaya hazır bir model elde edilecek \n",
    "# test ile de bu model test edilecek"
   ]
  },
  {
   "cell_type": "code",
   "execution_count": 12,
   "id": "61816a57",
   "metadata": {
    "execution": {
     "iopub.execute_input": "2022-08-28T13:05:56.082878Z",
     "iopub.status.busy": "2022-08-28T13:05:56.082067Z",
     "iopub.status.idle": "2022-08-28T13:05:56.291525Z",
     "shell.execute_reply": "2022-08-28T13:05:56.290220Z"
    },
    "papermill": {
     "duration": 0.220723,
     "end_time": "2022-08-28T13:05:56.294260",
     "exception": false,
     "start_time": "2022-08-28T13:05:56.073537",
     "status": "completed"
    },
    "tags": []
   },
   "outputs": [
    {
     "data": {
      "image/png": "[encoded data removed]",
      "text/plain": [
       "<Figure size 432x288 with 1 Axes>"
      ]
     },
     "metadata": {
      "needs_background": "light"
     },
     "output_type": "display_data"
    }
   ],
   "source": [
    "plt.imshow(X_train[2][:,:,0], cmap='gray')\n",
    "plt.show()"
   ]
  }
 ],
 "metadata": {
  "kernelspec": {
   "display_name": "Python 3",
   "language": "python",
   "name": "python3"
  },
  "language_info": {
   "codemirror_mode": {
    "name": "ipython",
    "version": 3
   },
   "file_extension": ".py",
   "mimetype": "text/x-python",
   "name": "python",
   "nbconvert_exporter": "python",
   "pygments_lexer": "ipython3",
   "version": "3.7.12"
  },
  "papermill": {
   "default_parameters": {},
   "duration": 30.424954,
   "end_time": "2022-08-28T13:05:59.414654",
   "environment_variables": {},
   "exception": null,
   "input_path": "__notebook__.ipynb",
   "output_path": "__notebook__.ipynb",
   "parameters": {},
   "start_time": "2022-08-28T13:05:28.989700",
   "version": "2.3.4"
  }
 },
 "nbformat": 4,
 "nbformat_minor": 5
}
