{
 "cells": [
  {
   "cell_type": "code",
   "execution_count": 1,
   "id": "f6ef4384",
   "metadata": {
    "_cell_guid": "b1076dfc-b9ad-4769-8c92-a6c4dae69d19",
    "_uuid": "8f2839f25d086af736a60e9eeb907d3b93b6e0e5",
    "execution": {
     "iopub.execute_input": "2022-08-28T22:02:48.265494Z",
     "iopub.status.busy": "2022-08-28T22:02:48.264499Z",
     "iopub.status.idle": "2022-08-28T22:02:49.425925Z",
     "shell.execute_reply": "2022-08-28T22:02:49.424217Z"
    },
    "papermill": {
     "duration": 1.176014,
     "end_time": "2022-08-28T22:02:49.429791",
     "exception": false,
     "start_time": "2022-08-28T22:02:48.253777",
     "status": "completed"
    },
    "tags": []
   },
   "outputs": [
    {
     "name": "stdout",
     "output_type": "stream",
     "text": [
      "/kaggle/input/digit-recognizer/sample_submission.csv\n",
      "/kaggle/input/digit-recognizer/train.csv\n",
      "/kaggle/input/digit-recognizer/test.csv\n"
     ]
    }
   ],
   "source": [
    "# This Python 3 environment comes with many helpful analytics libraries installed\n",
    "# It is defined by the kaggle/python Docker image: https://github.com/kaggle/docker-python\n",
    "# For example, here's several helpful packages to load\n",
    "\n",
    "import numpy as np # linear algebra\n",
    "import pandas as pd # data processing, CSV file I/O (e.g. pd.read_csv)\n",
    "\n",
    "# Input data files are available in the read-only \"../input/\" directory\n",
    "# For example, running this (by clicking run or pressing Shift+Enter) will list all files under the input directory\n",
    "import seaborn as sns\n",
    "import matplotlib.pyplot as plt\n",
    "\n",
    "import warnings\n",
    "warnings.filterwarnings('ignore')\n",
    "\n",
    "import os\n",
    "for dirname, _, filenames in os.walk('/kaggle/input'):\n",
    "    for filename in filenames:\n",
    "        print(os.path.join(dirname, filename))\n",
    "\n",
    "# You can write up to 20GB to the current directory (/kaggle/working/) that gets preserved as output when you create a version using \"Save & Run All\" \n",
    "# You can also write temporary files to /kaggle/temp/, but they won't be saved outside of the current session"
   ]
  },
  {
   "cell_type": "markdown",
   "id": "bf18aa3f",
   "metadata": {
    "papermill": {
     "duration": 0.00813,
     "end_time": "2022-08-28T22:02:49.449939",
     "exception": false,
     "start_time": "2022-08-28T22:02:49.441809",
     "status": "completed"
    },
    "tags": []
   },
   "source": [
    "## Loading the data set"
   ]
  },
  {
   "cell_type": "code",
   "execution_count": 2,
   "id": "5a0b9548",
   "metadata": {
    "execution": {
     "iopub.execute_input": "2022-08-28T22:02:49.467751Z",
     "iopub.status.busy": "2022-08-28T22:02:49.466591Z",
     "iopub.status.idle": "2022-08-28T22:02:52.914893Z",
     "shell.execute_reply": "2022-08-28T22:02:52.913394Z"
    },
    "papermill": {
     "duration": 3.459938,
     "end_time": "2022-08-28T22:02:52.917581",
     "exception": false,
     "start_time": "2022-08-28T22:02:49.457643",
     "status": "completed"
    },
    "tags": []
   },
   "outputs": [
    {
     "name": "stdout",
     "output_type": "stream",
     "text": [
      "(42000, 785)\n"
     ]
    },
    {
     "data": {
      "text/html": [
       "<div>\n",
       "<style scoped>\n",
       "    .dataframe tbody tr th:only-of-type {\n",
       "        vertical-align: middle;\n",
       "    }\n",
       "\n",
       "    .dataframe tbody tr th {\n",
       "        vertical-align: top;\n",
       "    }\n",
       "\n",
       "    .dataframe thead th {\n",
       "        text-align: right;\n",
       "    }\n",
       "</style>\n",
       "<table border=\"1\" class=\"dataframe\">\n",
       "  <thead>\n",
       "    <tr style=\"text-align: right;\">\n",
       "      <th></th>\n",
       "      <th>label</th>\n",
       "      <th>pixel0</th>\n",
       "      <th>pixel1</th>\n",
       "      <th>pixel2</th>\n",
       "      <th>pixel3</th>\n",
       "      <th>pixel4</th>\n",
       "      <th>pixel5</th>\n",
       "      <th>pixel6</th>\n",
       "      <th>pixel7</th>\n",
       "      <th>pixel8</th>\n",
       "      <th>...</th>\n",
       "      <th>pixel774</th>\n",
       "      <th>pixel775</th>\n",
       "      <th>pixel776</th>\n",
       "      <th>pixel777</th>\n",
       "      <th>pixel778</th>\n",
       "      <th>pixel779</th>\n",
       "      <th>pixel780</th>\n",
       "      <th>pixel781</th>\n",
       "      <th>pixel782</th>\n",
       "      <th>pixel783</th>\n",
       "    </tr>\n",
       "  </thead>\n",
       "  <tbody>\n",
       "    <tr>\n",
       "      <th>0</th>\n",
       "      <td>1</td>\n",
       "      <td>0</td>\n",
       "      <td>0</td>\n",
       "      <td>0</td>\n",
       "      <td>0</td>\n",
       "      <td>0</td>\n",
       "      <td>0</td>\n",
       "      <td>0</td>\n",
       "      <td>0</td>\n",
       "      <td>0</td>\n",
       "      <td>...</td>\n",
       "      <td>0</td>\n",
       "      <td>0</td>\n",
       "      <td>0</td>\n",
       "      <td>0</td>\n",
       "      <td>0</td>\n",
       "      <td>0</td>\n",
       "      <td>0</td>\n",
       "      <td>0</td>\n",
       "      <td>0</td>\n",
       "      <td>0</td>\n",
       "    </tr>\n",
       "    <tr>\n",
       "      <th>1</th>\n",
       "      <td>0</td>\n",
       "      <td>0</td>\n",
       "      <td>0</td>\n",
       "      <td>0</td>\n",
       "      <td>0</td>\n",
       "      <td>0</td>\n",
       "      <td>0</td>\n",
       "      <td>0</td>\n",
       "      <td>0</td>\n",
       "      <td>0</td>\n",
       "      <td>...</td>\n",
       "      <td>0</td>\n",
       "      <td>0</td>\n",
       "      <td>0</td>\n",
       "      <td>0</td>\n",
       "      <td>0</td>\n",
       "      <td>0</td>\n",
       "      <td>0</td>\n",
       "      <td>0</td>\n",
       "      <td>0</td>\n",
       "      <td>0</td>\n",
       "    </tr>\n",
       "    <tr>\n",
       "      <th>2</th>\n",
       "      <td>1</td>\n",
       "      <td>0</td>\n",
       "      <td>0</td>\n",
       "      <td>0</td>\n",
       "      <td>0</td>\n",
       "      <td>0</td>\n",
       "      <td>0</td>\n",
       "      <td>0</td>\n",
       "      <td>0</td>\n",
       "      <td>0</td>\n",
       "      <td>...</td>\n",
       "      <td>0</td>\n",
       "      <td>0</td>\n",
       "      <td>0</td>\n",
       "      <td>0</td>\n",
       "      <td>0</td>\n",
       "      <td>0</td>\n",
       "      <td>0</td>\n",
       "      <td>0</td>\n",
       "      <td>0</td>\n",
       "      <td>0</td>\n",
       "    </tr>\n",
       "    <tr>\n",
       "      <th>3</th>\n",
       "      <td>4</td>\n",
       "      <td>0</td>\n",
       "      <td>0</td>\n",
       "      <td>0</td>\n",
       "      <td>0</td>\n",
       "      <td>0</td>\n",
       "      <td>0</td>\n",
       "      <td>0</td>\n",
       "      <td>0</td>\n",
       "      <td>0</td>\n",
       "      <td>...</td>\n",
       "      <td>0</td>\n",
       "      <td>0</td>\n",
       "      <td>0</td>\n",
       "      <td>0</td>\n",
       "      <td>0</td>\n",
       "      <td>0</td>\n",
       "      <td>0</td>\n",
       "      <td>0</td>\n",
       "      <td>0</td>\n",
       "      <td>0</td>\n",
       "    </tr>\n",
       "    <tr>\n",
       "      <th>4</th>\n",
       "      <td>0</td>\n",
       "      <td>0</td>\n",
       "      <td>0</td>\n",
       "      <td>0</td>\n",
       "      <td>0</td>\n",
       "      <td>0</td>\n",
       "      <td>0</td>\n",
       "      <td>0</td>\n",
       "      <td>0</td>\n",
       "      <td>0</td>\n",
       "      <td>...</td>\n",
       "      <td>0</td>\n",
       "      <td>0</td>\n",
       "      <td>0</td>\n",
       "      <td>0</td>\n",
       "      <td>0</td>\n",
       "      <td>0</td>\n",
       "      <td>0</td>\n",
       "      <td>0</td>\n",
       "      <td>0</td>\n",
       "      <td>0</td>\n",
       "    </tr>\n",
       "  </tbody>\n",
       "</table>\n",
       "<p>5 rows × 785 columns</p>\n",
       "</div>"
      ],
      "text/plain": [
       "   label  pixel0  pixel1  pixel2  pixel3  pixel4  pixel5  pixel6  pixel7  \\\n",
       "0      1       0       0       0       0       0       0       0       0   \n",
       "1      0       0       0       0       0       0       0       0       0   \n",
       "2      1       0       0       0       0       0       0       0       0   \n",
       "3      4       0       0       0       0       0       0       0       0   \n",
       "4      0       0       0       0       0       0       0       0       0   \n",
       "\n",
       "   pixel8  ...  pixel774  pixel775  pixel776  pixel777  pixel778  pixel779  \\\n",
       "0       0  ...         0         0         0         0         0         0   \n",
       "1       0  ...         0         0         0         0         0         0   \n",
       "2       0  ...         0         0         0         0         0         0   \n",
       "3       0  ...         0         0         0         0         0         0   \n",
       "4       0  ...         0         0         0         0         0         0   \n",
       "\n",
       "   pixel780  pixel781  pixel782  pixel783  \n",
       "0         0         0         0         0  \n",
       "1         0         0         0         0  \n",
       "2         0         0         0         0  \n",
       "3         0         0         0         0  \n",
       "4         0         0         0         0  \n",
       "\n",
       "[5 rows x 785 columns]"
      ]
     },
     "execution_count": 2,
     "metadata": {},
     "output_type": "execute_result"
    }
   ],
   "source": [
    "train= pd.read_csv(\"../input/digit-recognizer/train.csv\")\n",
    "print(train.shape)\n",
    "train.head()"
   ]
  },
  {
   "cell_type": "code",
   "execution_count": 3,
   "id": "2e317a39",
   "metadata": {
    "execution": {
     "iopub.execute_input": "2022-08-28T22:02:52.935740Z",
     "iopub.status.busy": "2022-08-28T22:02:52.934917Z",
     "iopub.status.idle": "2022-08-28T22:02:54.860753Z",
     "shell.execute_reply": "2022-08-28T22:02:54.859493Z"
    },
    "papermill": {
     "duration": 1.937849,
     "end_time": "2022-08-28T22:02:54.863587",
     "exception": false,
     "start_time": "2022-08-28T22:02:52.925738",
     "status": "completed"
    },
    "tags": []
   },
   "outputs": [
    {
     "name": "stdout",
     "output_type": "stream",
     "text": [
      "(28000, 784)\n"
     ]
    },
    {
     "data": {
      "text/html": [
       "<div>\n",
       "<style scoped>\n",
       "    .dataframe tbody tr th:only-of-type {\n",
       "        vertical-align: middle;\n",
       "    }\n",
       "\n",
       "    .dataframe tbody tr th {\n",
       "        vertical-align: top;\n",
       "    }\n",
       "\n",
       "    .dataframe thead th {\n",
       "        text-align: right;\n",
       "    }\n",
       "</style>\n",
       "<table border=\"1\" class=\"dataframe\">\n",
       "  <thead>\n",
       "    <tr style=\"text-align: right;\">\n",
       "      <th></th>\n",
       "      <th>pixel0</th>\n",
       "      <th>pixel1</th>\n",
       "      <th>pixel2</th>\n",
       "      <th>pixel3</th>\n",
       "      <th>pixel4</th>\n",
       "      <th>pixel5</th>\n",
       "      <th>pixel6</th>\n",
       "      <th>pixel7</th>\n",
       "      <th>pixel8</th>\n",
       "      <th>pixel9</th>\n",
       "      <th>...</th>\n",
       "      <th>pixel774</th>\n",
       "      <th>pixel775</th>\n",
       "      <th>pixel776</th>\n",
       "      <th>pixel777</th>\n",
       "      <th>pixel778</th>\n",
       "      <th>pixel779</th>\n",
       "      <th>pixel780</th>\n",
       "      <th>pixel781</th>\n",
       "      <th>pixel782</th>\n",
       "      <th>pixel783</th>\n",
       "    </tr>\n",
       "  </thead>\n",
       "  <tbody>\n",
       "    <tr>\n",
       "      <th>0</th>\n",
       "      <td>0</td>\n",
       "      <td>0</td>\n",
       "      <td>0</td>\n",
       "      <td>0</td>\n",
       "      <td>0</td>\n",
       "      <td>0</td>\n",
       "      <td>0</td>\n",
       "      <td>0</td>\n",
       "      <td>0</td>\n",
       "      <td>0</td>\n",
       "      <td>...</td>\n",
       "      <td>0</td>\n",
       "      <td>0</td>\n",
       "      <td>0</td>\n",
       "      <td>0</td>\n",
       "      <td>0</td>\n",
       "      <td>0</td>\n",
       "      <td>0</td>\n",
       "      <td>0</td>\n",
       "      <td>0</td>\n",
       "      <td>0</td>\n",
       "    </tr>\n",
       "    <tr>\n",
       "      <th>1</th>\n",
       "      <td>0</td>\n",
       "      <td>0</td>\n",
       "      <td>0</td>\n",
       "      <td>0</td>\n",
       "      <td>0</td>\n",
       "      <td>0</td>\n",
       "      <td>0</td>\n",
       "      <td>0</td>\n",
       "      <td>0</td>\n",
       "      <td>0</td>\n",
       "      <td>...</td>\n",
       "      <td>0</td>\n",
       "      <td>0</td>\n",
       "      <td>0</td>\n",
       "      <td>0</td>\n",
       "      <td>0</td>\n",
       "      <td>0</td>\n",
       "      <td>0</td>\n",
       "      <td>0</td>\n",
       "      <td>0</td>\n",
       "      <td>0</td>\n",
       "    </tr>\n",
       "    <tr>\n",
       "      <th>2</th>\n",
       "      <td>0</td>\n",
       "      <td>0</td>\n",
       "      <td>0</td>\n",
       "      <td>0</td>\n",
       "      <td>0</td>\n",
       "      <td>0</td>\n",
       "      <td>0</td>\n",
       "      <td>0</td>\n",
       "      <td>0</td>\n",
       "      <td>0</td>\n",
       "      <td>...</td>\n",
       "      <td>0</td>\n",
       "      <td>0</td>\n",
       "      <td>0</td>\n",
       "      <td>0</td>\n",
       "      <td>0</td>\n",
       "      <td>0</td>\n",
       "      <td>0</td>\n",
       "      <td>0</td>\n",
       "      <td>0</td>\n",
       "      <td>0</td>\n",
       "    </tr>\n",
       "    <tr>\n",
       "      <th>3</th>\n",
       "      <td>0</td>\n",
       "      <td>0</td>\n",
       "      <td>0</td>\n",
       "      <td>0</td>\n",
       "      <td>0</td>\n",
       "      <td>0</td>\n",
       "      <td>0</td>\n",
       "      <td>0</td>\n",
       "      <td>0</td>\n",
       "      <td>0</td>\n",
       "      <td>...</td>\n",
       "      <td>0</td>\n",
       "      <td>0</td>\n",
       "      <td>0</td>\n",
       "      <td>0</td>\n",
       "      <td>0</td>\n",
       "      <td>0</td>\n",
       "      <td>0</td>\n",
       "      <td>0</td>\n",
       "      <td>0</td>\n",
       "      <td>0</td>\n",
       "    </tr>\n",
       "    <tr>\n",
       "      <th>4</th>\n",
       "      <td>0</td>\n",
       "      <td>0</td>\n",
       "      <td>0</td>\n",
       "      <td>0</td>\n",
       "      <td>0</td>\n",
       "      <td>0</td>\n",
       "      <td>0</td>\n",
       "      <td>0</td>\n",
       "      <td>0</td>\n",
       "      <td>0</td>\n",
       "      <td>...</td>\n",
       "      <td>0</td>\n",
       "      <td>0</td>\n",
       "      <td>0</td>\n",
       "      <td>0</td>\n",
       "      <td>0</td>\n",
       "      <td>0</td>\n",
       "      <td>0</td>\n",
       "      <td>0</td>\n",
       "      <td>0</td>\n",
       "      <td>0</td>\n",
       "    </tr>\n",
       "  </tbody>\n",
       "</table>\n",
       "<p>5 rows × 784 columns</p>\n",
       "</div>"
      ],
      "text/plain": [
       "   pixel0  pixel1  pixel2  pixel3  pixel4  pixel5  pixel6  pixel7  pixel8  \\\n",
       "0       0       0       0       0       0       0       0       0       0   \n",
       "1       0       0       0       0       0       0       0       0       0   \n",
       "2       0       0       0       0       0       0       0       0       0   \n",
       "3       0       0       0       0       0       0       0       0       0   \n",
       "4       0       0       0       0       0       0       0       0       0   \n",
       "\n",
       "   pixel9  ...  pixel774  pixel775  pixel776  pixel777  pixel778  pixel779  \\\n",
       "0       0  ...         0         0         0         0         0         0   \n",
       "1       0  ...         0         0         0         0         0         0   \n",
       "2       0  ...         0         0         0         0         0         0   \n",
       "3       0  ...         0         0         0         0         0         0   \n",
       "4       0  ...         0         0         0         0         0         0   \n",
       "\n",
       "   pixel780  pixel781  pixel782  pixel783  \n",
       "0         0         0         0         0  \n",
       "1         0         0         0         0  \n",
       "2         0         0         0         0  \n",
       "3         0         0         0         0  \n",
       "4         0         0         0         0  \n",
       "\n",
       "[5 rows x 784 columns]"
      ]
     },
     "execution_count": 3,
     "metadata": {},
     "output_type": "execute_result"
    }
   ],
   "source": [
    "test= pd.read_csv(\"../input/digit-recognizer/test.csv\")\n",
    "print(test.shape)\n",
    "test.head()"
   ]
  },
  {
   "cell_type": "code",
   "execution_count": 4,
   "id": "fd1dc789",
   "metadata": {
    "execution": {
     "iopub.execute_input": "2022-08-28T22:02:54.882888Z",
     "iopub.status.busy": "2022-08-28T22:02:54.882443Z",
     "iopub.status.idle": "2022-08-28T22:02:55.004981Z",
     "shell.execute_reply": "2022-08-28T22:02:55.003999Z"
    },
    "papermill": {
     "duration": 0.135001,
     "end_time": "2022-08-28T22:02:55.007142",
     "exception": false,
     "start_time": "2022-08-28T22:02:54.872141",
     "status": "completed"
    },
    "tags": []
   },
   "outputs": [],
   "source": [
    "Y_train= train[\"label\"]\n",
    "X_train= train.drop(labels= [\"label\"], axis=1)\n",
    "# train datasının label sütunu Y_train' atansın \n",
    "# train datasından label sütununun çıkarılmış hali X_train'e atılsın"
   ]
  },
  {
   "cell_type": "code",
   "execution_count": 5,
   "id": "99e5fb6c",
   "metadata": {
    "execution": {
     "iopub.execute_input": "2022-08-28T22:02:55.026255Z",
     "iopub.status.busy": "2022-08-28T22:02:55.025607Z",
     "iopub.status.idle": "2022-08-28T22:02:55.334428Z",
     "shell.execute_reply": "2022-08-28T22:02:55.333233Z"
    },
    "papermill": {
     "duration": 0.321393,
     "end_time": "2022-08-28T22:02:55.337110",
     "exception": false,
     "start_time": "2022-08-28T22:02:55.015717",
     "status": "completed"
    },
    "tags": []
   },
   "outputs": [
    {
     "data": {
      "text/plain": [
       "1    4684\n",
       "7    4401\n",
       "3    4351\n",
       "9    4188\n",
       "2    4177\n",
       "6    4137\n",
       "0    4132\n",
       "4    4072\n",
       "8    4063\n",
       "5    3795\n",
       "Name: label, dtype: int64"
      ]
     },
     "execution_count": 5,
     "metadata": {},
     "output_type": "execute_result"
    },
    {
     "data": {
      "image/png": "[encoded data removed]",
      "text/plain": [
       "<Figure size 1080x504 with 1 Axes>"
      ]
     },
     "metadata": {
      "needs_background": "light"
     },
     "output_type": "display_data"
    }
   ],
   "source": [
    "plt.figure(figsize=(15,7))\n",
    "g= sns.countplot(Y_train, palette=\"icefire\")\n",
    "plt.title(\"Number of digits\")\n",
    "Y_train.value_counts()"
   ]
  },
  {
   "cell_type": "code",
   "execution_count": 6,
   "id": "87be7e04",
   "metadata": {
    "execution": {
     "iopub.execute_input": "2022-08-28T22:02:55.356568Z",
     "iopub.status.busy": "2022-08-28T22:02:55.356162Z",
     "iopub.status.idle": "2022-08-28T22:02:55.463090Z",
     "shell.execute_reply": "2022-08-28T22:02:55.461515Z"
    },
    "papermill": {
     "duration": 0.121887,
     "end_time": "2022-08-28T22:02:55.467913",
     "exception": false,
     "start_time": "2022-08-28T22:02:55.346026",
     "status": "completed"
    },
    "tags": []
   },
   "outputs": [
    {
     "data": {
      "image/png": "[encoded data removed]",
      "text/plain": [
       "<Figure size 432x288 with 1 Axes>"
      ]
     },
     "metadata": {
      "needs_background": "light"
     },
     "output_type": "display_data"
    }
   ],
   "source": [
    "img = X_train.iloc[0].to_numpy()\n",
    "img = img.reshape((28,28))\n",
    "plt.imshow(img, cmap='gray')\n",
    "plt.title(train.iloc[0,0])\n",
    "plt.axis(\"off\")\n",
    "plt.show()"
   ]
  },
  {
   "cell_type": "code",
   "execution_count": 7,
   "id": "0c1eb861",
   "metadata": {
    "execution": {
     "iopub.execute_input": "2022-08-28T22:02:55.509154Z",
     "iopub.status.busy": "2022-08-28T22:02:55.508729Z",
     "iopub.status.idle": "2022-08-28T22:02:55.702985Z",
     "shell.execute_reply": "2022-08-28T22:02:55.701754Z"
    },
    "papermill": {
     "duration": 0.215149,
     "end_time": "2022-08-28T22:02:55.705856",
     "exception": false,
     "start_time": "2022-08-28T22:02:55.490707",
     "status": "completed"
    },
    "tags": []
   },
   "outputs": [
    {
     "data": {
      "image/png": "[encoded data removed]",
      "text/plain": [
       "<Figure size 432x288 with 1 Axes>"
      ]
     },
     "metadata": {
      "needs_background": "light"
     },
     "output_type": "display_data"
    }
   ],
   "source": [
    "img= X_train.iloc[3].to_numpy()\n",
    "img= img.reshape((28,28))\n",
    "plt.imshow(img, cmap='gray')\n",
    "plt.title(train.iloc[3,0])\n",
    "plt.axis(\"on\")\n",
    "plt.show()"
   ]
  },
  {
   "cell_type": "markdown",
   "id": "21d48b7b",
   "metadata": {
    "papermill": {
     "duration": 0.008783,
     "end_time": "2022-08-28T22:02:55.724893",
     "exception": false,
     "start_time": "2022-08-28T22:02:55.716110",
     "status": "completed"
    },
    "tags": []
   },
   "source": [
    "## Normalization, Reshape and Label Encoding"
   ]
  },
  {
   "cell_type": "markdown",
   "id": "dae27f9a",
   "metadata": {
    "papermill": {
     "duration": 0.009379,
     "end_time": "2022-08-28T22:02:55.743446",
     "exception": false,
     "start_time": "2022-08-28T22:02:55.734067",
     "status": "completed"
    },
    "tags": []
   },
   "source": [
    "#### Normalization\n",
    "* Bir resmi normalize etmek demek onu gray scale içerisine almak demektir. Yani görsel siyah ve beyazdan oluşacaktır.\n",
    "* Normalization yaparak CNN'in daha hızlı çalışmasını sağlarız.\n",
    "<br>\n",
    "<br>\n",
    "\n",
    "#### Reshape\n",
    "* Keras elimizde bulunan 28x28 yani 2 boyutlu matrisleri anlamlandıramaz.\n",
    "* Bu yüzden 3D olarak kullanmalıyız. 28x28x1 , buradaki 1'in anlamı siyah beyaz olmasıdır yani gray scale'i temsil eder, renkli olsaydı 3 verilecekti. Çünkü RGB 3 renk değerine sahiptir.\n",
    "<br>\n",
    "<br>\n",
    "\n",
    "#### Label Encoding\n",
    "* Verideki label'larımızın binary temsil edilişi\n",
    "    * 2 = [0,0,1,0,0,0,0,0,0,0]\n",
    "    * 4 = [0,0,0,0,1,0,0,0,0,0]\n",
    "* Örneğin 2 , 3.indexte bulunmaktadır. Çünkü indexleme 0.dan başlıyor.\n",
    "* Encoding demek Label'ları farklı bir formata çevirmek anlamına gelmektedir."
   ]
  },
  {
   "cell_type": "code",
   "execution_count": 8,
   "id": "81c7eba5",
   "metadata": {
    "execution": {
     "iopub.execute_input": "2022-08-28T22:02:55.764512Z",
     "iopub.status.busy": "2022-08-28T22:02:55.764086Z",
     "iopub.status.idle": "2022-08-28T22:02:55.883623Z",
     "shell.execute_reply": "2022-08-28T22:02:55.882323Z"
    },
    "papermill": {
     "duration": 0.133451,
     "end_time": "2022-08-28T22:02:55.886536",
     "exception": false,
     "start_time": "2022-08-28T22:02:55.753085",
     "status": "completed"
    },
    "tags": []
   },
   "outputs": [
    {
     "name": "stdout",
     "output_type": "stream",
     "text": [
      "x_train shape:  (42000, 784)\n",
      "test shape:  (28000, 784)\n"
     ]
    }
   ],
   "source": [
    "# Normalize the data\n",
    "# Normalization bir değeri 0-1 aralığına almak anlamına gelmektedir.\n",
    "# Bu veri setinde resimler ile çalışıldığı için veriyi 255'e bölmek yeterli olacaktır çünkü\n",
    "# bir resmin alabileceği max matematiksel değer 255'tir.\n",
    "# Örneğin kırmızı rengin rgb kodu (255,0,0) maxiimum 255 değerini almıştır.\n",
    "# bu yüzden x_train ve test'i 255'e bölerek normalize etmiş oluyoruz.\n",
    "\n",
    "X_train= X_train/255.0\n",
    "test= test/ 255.0\n",
    "print(\"x_train shape: \",X_train.shape)\n",
    "print(\"test shape: \", test.shape)\n",
    "\n",
    "# normalize etmek shape'te bir değişikliğe neden olmamaktadır."
   ]
  },
  {
   "cell_type": "code",
   "execution_count": 9,
   "id": "61a7e6dc",
   "metadata": {
    "execution": {
     "iopub.execute_input": "2022-08-28T22:02:55.907065Z",
     "iopub.status.busy": "2022-08-28T22:02:55.906624Z",
     "iopub.status.idle": "2022-08-28T22:02:55.912878Z",
     "shell.execute_reply": "2022-08-28T22:02:55.911739Z"
    },
    "papermill": {
     "duration": 0.021043,
     "end_time": "2022-08-28T22:02:55.916971",
     "exception": false,
     "start_time": "2022-08-28T22:02:55.895928",
     "status": "completed"
    },
    "tags": []
   },
   "outputs": [
    {
     "name": "stdout",
     "output_type": "stream",
     "text": [
      "x_train shape: (42000, 28, 28, 1)\n",
      "test shape:  (28000, 28, 28, 1)\n"
     ]
    }
   ],
   "source": [
    "# Reshape\n",
    "X_train = X_train.values.reshape(-1,28,28,1)\n",
    "test= test.values.reshape(-1,28,28,1)\n",
    "print(\"x_train shape:\", X_train.shape)\n",
    "print(\"test shape: \", test.shape)\n",
    "\n",
    "# kaç sample olduğunu belirten bir değeri de içine alarak 4D'ye çeviriyoruz."
   ]
  },
  {
   "cell_type": "code",
   "execution_count": 10,
   "id": "885c5f78",
   "metadata": {
    "execution": {
     "iopub.execute_input": "2022-08-28T22:02:55.939559Z",
     "iopub.status.busy": "2022-08-28T22:02:55.938703Z",
     "iopub.status.idle": "2022-08-28T22:03:01.901655Z",
     "shell.execute_reply": "2022-08-28T22:03:01.900093Z"
    },
    "papermill": {
     "duration": 5.97664,
     "end_time": "2022-08-28T22:03:01.904611",
     "exception": false,
     "start_time": "2022-08-28T22:02:55.927971",
     "status": "completed"
    },
    "tags": []
   },
   "outputs": [],
   "source": [
    "# Label Encoding\n",
    "from keras.utils.np_utils import to_categorical\n",
    "Y_train = to_categorical(Y_train, num_classes= 10)\n",
    "# encoding yapılırken number of class belirtilmek zorunda"
   ]
  },
  {
   "cell_type": "markdown",
   "id": "fed12d55",
   "metadata": {
    "papermill": {
     "duration": 0.009084,
     "end_time": "2022-08-28T22:03:01.923192",
     "exception": false,
     "start_time": "2022-08-28T22:03:01.914108",
     "status": "completed"
    },
    "tags": []
   },
   "source": [
    "## Train Test Split\n",
    "* test size is 10% , train size ise 90% ."
   ]
  },
  {
   "cell_type": "code",
   "execution_count": 11,
   "id": "d89e50f1",
   "metadata": {
    "execution": {
     "iopub.execute_input": "2022-08-28T22:03:01.944177Z",
     "iopub.status.busy": "2022-08-28T22:03:01.943433Z",
     "iopub.status.idle": "2022-08-28T22:03:02.573271Z",
     "shell.execute_reply": "2022-08-28T22:03:02.571885Z"
    },
    "papermill": {
     "duration": 0.643917,
     "end_time": "2022-08-28T22:03:02.576855",
     "exception": false,
     "start_time": "2022-08-28T22:03:01.932938",
     "status": "completed"
    },
    "tags": []
   },
   "outputs": [
    {
     "name": "stdout",
     "output_type": "stream",
     "text": [
      "x_train shape (37800, 28, 28, 1)\n",
      "x_val shape (4200, 28, 28, 1)\n",
      "y_train shape (37800, 10)\n",
      "y_val shape (4200, 10)\n"
     ]
    }
   ],
   "source": [
    "from sklearn.model_selection import train_test_split\n",
    "X_train, X_val, Y_train, Y_val = train_test_split(X_train, Y_train, test_size = 0.1, random_state=2)\n",
    "print(\"x_train shape\",X_train.shape)\n",
    "print(\"x_val shape\",X_val.shape)\n",
    "print(\"y_train shape\",Y_train.shape)\n",
    "print(\"y_val shape\",Y_val.shape)\n",
    "\n",
    "# x_train ve x_validation olarak ayırdık\n",
    "# x_train ile model oluşturacaz\n",
    "# x_val ile model test edilecek\n",
    "# gerçek hayatta kullanmaya hazır bir model elde edilecek \n",
    "# test ile de bu model test edilecek"
   ]
  },
  {
   "cell_type": "code",
   "execution_count": 12,
   "id": "179551db",
   "metadata": {
    "execution": {
     "iopub.execute_input": "2022-08-28T22:03:02.598597Z",
     "iopub.status.busy": "2022-08-28T22:03:02.597416Z",
     "iopub.status.idle": "2022-08-28T22:03:02.789269Z",
     "shell.execute_reply": "2022-08-28T22:03:02.788027Z"
    },
    "papermill": {
     "duration": 0.205403,
     "end_time": "2022-08-28T22:03:02.791924",
     "exception": false,
     "start_time": "2022-08-28T22:03:02.586521",
     "status": "completed"
    },
    "tags": []
   },
   "outputs": [
    {
     "data": {
      "image/png": "[encoded data removed]",
      "text/plain": [
       "<Figure size 432x288 with 1 Axes>"
      ]
     },
     "metadata": {
      "needs_background": "light"
     },
     "output_type": "display_data"
    }
   ],
   "source": [
    "plt.imshow(X_train[2][:,:,0], cmap='gray')\n",
    "plt.show()"
   ]
  },
  {
   "cell_type": "markdown",
   "id": "ab9acad3",
   "metadata": {
    "papermill": {
     "duration": 0.009182,
     "end_time": "2022-08-28T22:03:02.810646",
     "exception": false,
     "start_time": "2022-08-28T22:03:02.801464",
     "status": "completed"
    },
    "tags": []
   },
   "source": [
    "## Creating Model \n",
    "* convolation -> max pooling -> dropout -> convoluation ->max pooling -> dropout -> fully connected (2 layer)\n",
    "\n",
    "* Dropout: Forward propagation sırasında random olarak seçilmiş bazı nöronların train sırasında görmezden gelinmesidir. Bu seçilen nöronlarla bağlantılı olan nöronların arasındaki bağlantı kesilmektedir."
   ]
  },
  {
   "cell_type": "code",
   "execution_count": 13,
   "id": "86cd58ee",
   "metadata": {
    "execution": {
     "iopub.execute_input": "2022-08-28T22:03:02.832351Z",
     "iopub.status.busy": "2022-08-28T22:03:02.831233Z",
     "iopub.status.idle": "2022-08-28T22:03:03.475593Z",
     "shell.execute_reply": "2022-08-28T22:03:03.474216Z"
    },
    "papermill": {
     "duration": 0.658679,
     "end_time": "2022-08-28T22:03:03.479002",
     "exception": false,
     "start_time": "2022-08-28T22:03:02.820323",
     "status": "completed"
    },
    "tags": []
   },
   "outputs": [
    {
     "name": "stderr",
     "output_type": "stream",
     "text": [
      "2022-08-28 22:03:03.355726: I tensorflow/core/common_runtime/process_util.cc:146] Creating new thread pool with default inter op setting: 2. Tune using inter_op_parallelism_threads for best performance.\n"
     ]
    }
   ],
   "source": [
    "from sklearn.metrics import confusion_matrix \n",
    "import itertools\n",
    "\n",
    "from keras.utils.np_utils import to_categorical\n",
    "from keras.models import Sequential\n",
    "from keras.layers import Dense, Dropout, Flatten, Conv2D, MaxPool2D\n",
    "from tensorflow.keras.optimizers import RMSprop, Adam\n",
    "from keras.preprocessing.image import ImageDataGenerator\n",
    "from keras.callbacks import ReduceLROnPlateau\n",
    "\n",
    "# Tüm layer'ları içerisinde bulunduran yapı Sequential()'dır.\n",
    "model= Sequential() \n",
    "\n",
    "# First layer\n",
    "model.add(Conv2D(filters= 8, kernel_size=(5,5), padding='Same', activation='relu', input_shape=(28,28,1)))\n",
    "# feature detect eden filtrelerin sayısının 8 olmasını istedik modelimizin daha hızlı çalışması için.\n",
    "# kernel_size -> filtre size'ıdır.\n",
    "# input_size görsel size'ı, ve yanına 1 eklenmesi de gray scale olduğunu belirtiyor, keras'ın anlamlandırabilmesi için.\n",
    "model.add(MaxPool2D(pool_size=(2,2)))\n",
    "# Max pooling'i ekledik 2x2 bir matris olsun dedik.\n",
    "model.add(Dropout(0.25))\n",
    "# %25 node'u deaktive et\n",
    "\n",
    "# Second layer\n",
    "model.add(Conv2D(filters=16, kernel_size=(3,3), padding='Same', activation='relu'))\n",
    "# burada bir input shape verilmesine gerek yok çünkü bir önceki layer'da shape belirtildi.\n",
    "# Orada belirtmemizin nedeni ilk layer olması ve initial değer vermemiz gerekmesidir. Yoksa model shape'i bilemez.\n",
    "model.add(MaxPool2D(pool_size=(2,2),strides=(2,2)))\n",
    "# strides kaç adım atlanarak matrisin gezileeğini göstermektedir.\n",
    "model.add(Dropout(0.25))\n",
    "\n",
    "# Fully Connected\n",
    "model.add(Flatten())\n",
    "# matrisi  düzleştirdik\n",
    "model.add(Dense(256, activation=\"relu\"))\n",
    "# aktivasyonu relu olan bir hidden layer ekledik.\n",
    "model.add(Dropout(0.5))\n",
    "model.add(Dense(10, activation= \"softmax\"))\n",
    "# bir tane de output layer ekledik.\n",
    "# softmax -> sigmoid fonksiyonu gibi bir fonksiyon ve multiclasslar için kullanılıyor."
   ]
  },
  {
   "cell_type": "markdown",
   "id": "9b31a4e4",
   "metadata": {
    "papermill": {
     "duration": 0.009359,
     "end_time": "2022-08-28T22:03:03.498666",
     "exception": false,
     "start_time": "2022-08-28T22:03:03.489307",
     "status": "completed"
    },
    "tags": []
   },
   "source": [
    "#### Define Optimizer\n",
    "* Adam optimizer: Learning rate'i değiştirir.\n",
    "     * Kod çalışırken eğer leraning rate çok küçükse ve cost'un min olmasını sağlayacak parametrelere hızlıca ulaşılamıyorsa learning rate'i değiştirir ve modeli hızlandırır. Tam tersi olarak eğer leraning rate çok büyükse bu sefer rate'i düşürüp hedefe ulaşılmasını sağlar."
   ]
  },
  {
   "cell_type": "code",
   "execution_count": 14,
   "id": "f747eff8",
   "metadata": {
    "execution": {
     "iopub.execute_input": "2022-08-28T22:03:03.520180Z",
     "iopub.status.busy": "2022-08-28T22:03:03.519787Z",
     "iopub.status.idle": "2022-08-28T22:03:03.524667Z",
     "shell.execute_reply": "2022-08-28T22:03:03.523760Z"
    },
    "papermill": {
     "duration": 0.018313,
     "end_time": "2022-08-28T22:03:03.526888",
     "exception": false,
     "start_time": "2022-08-28T22:03:03.508575",
     "status": "completed"
    },
    "tags": []
   },
   "outputs": [],
   "source": [
    "optimizer= Adam(lr=0.001, beta_1=0.9, beta_2=0.999)"
   ]
  },
  {
   "cell_type": "markdown",
   "id": "605fc053",
   "metadata": {
    "papermill": {
     "duration": 0.009862,
     "end_time": "2022-08-28T22:03:03.547013",
     "exception": false,
     "start_time": "2022-08-28T22:03:03.537151",
     "status": "completed"
    },
    "tags": []
   },
   "source": [
    "#### Compile Model\n",
    "<br><br>\n",
    "<img src=\"https://i.ibb.co/qW299Dr/cce.jpg\" alt=\"categorical_crossentropy\"/>\n",
    "<br><br>\n",
    "* Loss fonksiyonu multiclass'ta bu formüle göre hesaplanmaktadır."
   ]
  },
  {
   "cell_type": "code",
   "execution_count": 15,
   "id": "5dd68eda",
   "metadata": {
    "execution": {
     "iopub.execute_input": "2022-08-28T22:03:03.568523Z",
     "iopub.status.busy": "2022-08-28T22:03:03.567909Z",
     "iopub.status.idle": "2022-08-28T22:03:03.580934Z",
     "shell.execute_reply": "2022-08-28T22:03:03.579991Z"
    },
    "papermill": {
     "duration": 0.026598,
     "end_time": "2022-08-28T22:03:03.583265",
     "exception": false,
     "start_time": "2022-08-28T22:03:03.556667",
     "status": "completed"
    },
    "tags": []
   },
   "outputs": [],
   "source": [
    "model.compile(optimizer= optimizer, loss=\"categorical_crossentropy\", metrics=[\"accuracy\"])\n",
    "# multiclass'a sahipsek categorical_crossentropy kullanırız. \n",
    "# doğru tahmin edilirse hata 0 , yanlış tahmin edilirse hata yüksek çıkar.\n",
    "# metrics çıkan sonucun neye göre değerlendirileceğini belirtmektedir. burada accuracy'e göre değerlendirmekteyiz."
   ]
  },
  {
   "cell_type": "markdown",
   "id": "8d3fcb52",
   "metadata": {
    "papermill": {
     "duration": 0.00927,
     "end_time": "2022-08-28T22:03:03.602094",
     "exception": false,
     "start_time": "2022-08-28T22:03:03.592824",
     "status": "completed"
    },
    "tags": []
   },
   "source": [
    "#### Epoch ve Batch Size\n",
    "* 10 tane resim olduğunda batch size'ı 2 olarak belirlersek her seferinde forward ve backward propagation 2 resim ile yapılacak. Bu da toplam 5 batch yapılması anlamına gelmektedir. Çünkü bir batch için gereken size 2'dir. (10/2=5)\n",
    "* Resimlerin 5 kere batch yapılması 1 epoch'a denk gelmektedir. 3 epoch yapıldığını düşünürsek, 3x5= 15 batch olacaktır."
   ]
  },
  {
   "cell_type": "code",
   "execution_count": 16,
   "id": "c63212b7",
   "metadata": {
    "execution": {
     "iopub.execute_input": "2022-08-28T22:03:03.623620Z",
     "iopub.status.busy": "2022-08-28T22:03:03.622865Z",
     "iopub.status.idle": "2022-08-28T22:03:03.627237Z",
     "shell.execute_reply": "2022-08-28T22:03:03.626409Z"
    },
    "papermill": {
     "duration": 0.017553,
     "end_time": "2022-08-28T22:03:03.629418",
     "exception": false,
     "start_time": "2022-08-28T22:03:03.611865",
     "status": "completed"
    },
    "tags": []
   },
   "outputs": [],
   "source": [
    "epochs= 10 \n",
    "batch_size= 250\n",
    "\n",
    "# daha iyi sonuçlar elde edebilmek için epoch'un 3 yerine 10 olması daha iyidir."
   ]
  },
  {
   "cell_type": "markdown",
   "id": "97f9669c",
   "metadata": {
    "papermill": {
     "duration": 0.009363,
     "end_time": "2022-08-28T22:03:03.648399",
     "exception": false,
     "start_time": "2022-08-28T22:03:03.639036",
     "status": "completed"
    },
    "tags": []
   },
   "source": [
    "#### Data Augmentation\n",
    "* Overfitting'i önlemek için farklı tarzdaki, boyuttaki, rotasyondaki, farklı data setleri kendi data setimize eklememiz gerekir.\n",
    "<br><br>\n",
    "* Bu yüzden training datamızda küçük değişiklikler yaparak (örneğin zoom ya da rotasyon değişikliği) gerçek resmimize benzeyen farklı resimler üretmiş oluyoruz."
   ]
  },
  {
   "cell_type": "code",
   "execution_count": 17,
   "id": "e0243682",
   "metadata": {
    "execution": {
     "iopub.execute_input": "2022-08-28T22:03:03.669581Z",
     "iopub.status.busy": "2022-08-28T22:03:03.668843Z",
     "iopub.status.idle": "2022-08-28T22:03:03.768350Z",
     "shell.execute_reply": "2022-08-28T22:03:03.767486Z"
    },
    "papermill": {
     "duration": 0.112951,
     "end_time": "2022-08-28T22:03:03.770864",
     "exception": false,
     "start_time": "2022-08-28T22:03:03.657913",
     "status": "completed"
    },
    "tags": []
   },
   "outputs": [],
   "source": [
    "datagen= ImageDataGenerator(featurewise_center=False,  # input mean 0 olarak set edilmesin dedik\n",
    "                            samplewise_center=False,   # her bir sample 0 olmasın\n",
    "                            featurewise_std_normalization=False,  \n",
    "                            samplewise_std_normalization=False,\n",
    "                            zca_whitening=False,\n",
    "                            rotation_range=5,        # rotation'u değiştirdik\n",
    "                            zoom_range= 0.5,         # zoom, width ve height özelliklerini değiştirdik\n",
    "                            width_shift_range=0.5,\n",
    "                            height_shift_range=0.5,\n",
    "                            horizontal_flip=False,\n",
    "                            vertical_flip=False)\n",
    "datagen.fit(X_train)\n",
    "# keras kütüphanesinin data generator metodundaki parametreleri doldurarak bir görsel üretebiliriz.\n",
    "# değiştirmek istediğimiz parametreleri ayarladıktan sonra x_train datamıza bu değişiklikleri uyguluyoruz."
   ]
  },
  {
   "cell_type": "markdown",
   "id": "c47e4293",
   "metadata": {
    "papermill": {
     "duration": 0.009286,
     "end_time": "2022-08-28T22:03:03.789885",
     "exception": false,
     "start_time": "2022-08-28T22:03:03.780599",
     "status": "completed"
    },
    "tags": []
   },
   "source": [
    "#### Fit the Model\n",
    "Modeli oluşturup train edeceğiz."
   ]
  },
  {
   "cell_type": "code",
   "execution_count": 18,
   "id": "5e97d03d",
   "metadata": {
    "execution": {
     "iopub.execute_input": "2022-08-28T22:03:03.810760Z",
     "iopub.status.busy": "2022-08-28T22:03:03.810323Z",
     "iopub.status.idle": "2022-08-28T22:06:12.826264Z",
     "shell.execute_reply": "2022-08-28T22:06:12.825309Z"
    },
    "papermill": {
     "duration": 189.029496,
     "end_time": "2022-08-28T22:06:12.828980",
     "exception": false,
     "start_time": "2022-08-28T22:03:03.799484",
     "status": "completed"
    },
    "tags": []
   },
   "outputs": [
    {
     "name": "stderr",
     "output_type": "stream",
     "text": [
      "2022-08-28 22:03:04.008627: I tensorflow/compiler/mlir/mlir_graph_optimization_pass.cc:185] None of the MLIR Optimization Passes are enabled (registered 2)\n"
     ]
    },
    {
     "name": "stdout",
     "output_type": "stream",
     "text": [
      "Epoch 1/10\n",
      "151/151 [==============================] - 13s 82ms/step - loss: 2.2134 - accuracy: 0.1763 - val_loss: 1.7619 - val_accuracy: 0.3700\n",
      "Epoch 2/10\n",
      "151/151 [==============================] - 12s 78ms/step - loss: 1.8898 - accuracy: 0.3262 - val_loss: 1.2105 - val_accuracy: 0.6745\n",
      "Epoch 3/10\n",
      "151/151 [==============================] - 12s 80ms/step - loss: 1.7047 - accuracy: 0.4039 - val_loss: 0.9292 - val_accuracy: 0.7176\n",
      "Epoch 4/10\n",
      "151/151 [==============================] - 12s 78ms/step - loss: 1.5884 - accuracy: 0.4496 - val_loss: 0.6576 - val_accuracy: 0.8319\n",
      "Epoch 5/10\n",
      "151/151 [==============================] - 12s 82ms/step - loss: 1.5128 - accuracy: 0.4795 - val_loss: 0.5273 - val_accuracy: 0.8645\n",
      "Epoch 6/10\n",
      "151/151 [==============================] - 12s 78ms/step - loss: 1.4516 - accuracy: 0.5025 - val_loss: 0.4564 - val_accuracy: 0.8862\n",
      "Epoch 7/10\n",
      "151/151 [==============================] - 12s 78ms/step - loss: 1.3929 - accuracy: 0.5191 - val_loss: 0.3732 - val_accuracy: 0.9005\n",
      "Epoch 8/10\n",
      "151/151 [==============================] - 12s 78ms/step - loss: 1.3674 - accuracy: 0.5336 - val_loss: 0.3430 - val_accuracy: 0.9145\n",
      "Epoch 9/10\n",
      "151/151 [==============================] - 12s 77ms/step - loss: 1.3321 - accuracy: 0.5468 - val_loss: 0.3455 - val_accuracy: 0.9088\n",
      "Epoch 10/10\n",
      "151/151 [==============================] - 12s 81ms/step - loss: 1.3015 - accuracy: 0.5545 - val_loss: 0.3166 - val_accuracy: 0.9098\n"
     ]
    }
   ],
   "source": [
    "history= model.fit_generator(datagen.flow(X_train, Y_train, batch_size= batch_size), \n",
    "                             epochs= epochs,\n",
    "                             validation_data= (X_val, Y_val),\n",
    "                             steps_per_epoch= X_train.shape[0]//batch_size) \n",
    "                             # bölüm'ün sonucu steps_per_epoch olacak"
   ]
  },
  {
   "cell_type": "markdown",
   "id": "1a3acb7f",
   "metadata": {
    "papermill": {
     "duration": 0.102066,
     "end_time": "2022-08-28T22:06:13.032819",
     "exception": false,
     "start_time": "2022-08-28T22:06:12.930753",
     "status": "completed"
    },
    "tags": []
   },
   "source": [
    "#### Evaluate the Model\n",
    "* Test loss görselleştirme.\n",
    "* Confusion matrix."
   ]
  },
  {
   "cell_type": "code",
   "execution_count": 19,
   "id": "87e2d8f8",
   "metadata": {
    "execution": {
     "iopub.execute_input": "2022-08-28T22:06:13.236765Z",
     "iopub.status.busy": "2022-08-28T22:06:13.236027Z",
     "iopub.status.idle": "2022-08-28T22:06:13.454511Z",
     "shell.execute_reply": "2022-08-28T22:06:13.453575Z"
    },
    "papermill": {
     "duration": 0.323291,
     "end_time": "2022-08-28T22:06:13.456795",
     "exception": false,
     "start_time": "2022-08-28T22:06:13.133504",
     "status": "completed"
    },
    "tags": []
   },
   "outputs": [
    {
     "data": {
      "image/png": "[encoded data removed]",
      "text/plain": [
       "<Figure size 432x288 with 1 Axes>"
      ]
     },
     "metadata": {
      "needs_background": "light"
     },
     "output_type": "display_data"
    }
   ],
   "source": [
    "plt.plot(history.history['val_loss'], color='b', label=\"Validation Loss\")\n",
    "plt.title(\"Validation Loss\")\n",
    "plt.xlabel(\"Number of Epochs\")\n",
    "plt.ylabel(\"Loss\")\n",
    "plt.legend()\n",
    "plt.show()"
   ]
  },
  {
   "cell_type": "markdown",
   "id": "49d64b3b",
   "metadata": {
    "papermill": {
     "duration": 0.101641,
     "end_time": "2022-08-28T22:06:13.659499",
     "exception": false,
     "start_time": "2022-08-28T22:06:13.557858",
     "status": "completed"
    },
    "tags": []
   },
   "source": [
    "epoch sayısı arttıkça loss'un azaldığını görmekteyiz."
   ]
  },
  {
   "cell_type": "code",
   "execution_count": 20,
   "id": "47a47afd",
   "metadata": {
    "execution": {
     "iopub.execute_input": "2022-08-28T22:06:13.864596Z",
     "iopub.status.busy": "2022-08-28T22:06:13.863446Z",
     "iopub.status.idle": "2022-08-28T22:06:14.971239Z",
     "shell.execute_reply": "2022-08-28T22:06:14.970027Z"
    },
    "papermill": {
     "duration": 1.213903,
     "end_time": "2022-08-28T22:06:14.974152",
     "exception": false,
     "start_time": "2022-08-28T22:06:13.760249",
     "status": "completed"
    },
    "tags": []
   },
   "outputs": [
    {
     "data": {
      "image/png": "[encoded data removed]",
      "text/plain": [
       "<Figure size 576x576 with 2 Axes>"
      ]
     },
     "metadata": {
      "needs_background": "light"
     },
     "output_type": "display_data"
    }
   ],
   "source": [
    "import seaborn as sns\n",
    "# Predict the values from the validation dataset\n",
    "Y_pred = model.predict(X_val)\n",
    "# Convert predictions classes to one hot vectors \n",
    "Y_pred_classes = np.argmax(Y_pred,axis = 1) \n",
    "# Convert validation observations to one hot vectors\n",
    "Y_true = np.argmax(Y_val,axis = 1) \n",
    "# compute the confusion matrix\n",
    "confusion_mtx = confusion_matrix(Y_true, Y_pred_classes) \n",
    "# plot the confusion matrix\n",
    "f,ax = plt.subplots(figsize=(8, 8))\n",
    "sns.heatmap(confusion_mtx, annot=True, linewidths=0.01,cmap=\"Greens\",linecolor=\"gray\", fmt= '.1f',ax=ax)\n",
    "plt.xlabel(\"Predicted Label\")\n",
    "plt.ylabel(\"True Label\")\n",
    "plt.title(\"Confusion Matrix\")\n",
    "plt.show()"
   ]
  },
  {
   "cell_type": "markdown",
   "id": "0638fac2",
   "metadata": {
    "papermill": {
     "duration": 0.101367,
     "end_time": "2022-08-28T22:06:15.179069",
     "exception": false,
     "start_time": "2022-08-28T22:06:15.077702",
     "status": "completed"
    },
    "tags": []
   },
   "source": [
    "* Burada solda gözüken true label'ların heatmap'te kaç tanesinin doğru tahmin edildiğini görebiliyoruz. Örneğin 7 label'ı için 431 doğru tahmin alınmış.\n",
    "* Ayrıca confusion matris olarak incelersek modelin 5 yerine 3 tahmini yaptığı olmuş 11 tane, 9 yerine 7 tahminini 22 kere yapmış yani bunları karıştırmış. Aynı şekilde 4 yerine 9 dediği olmuş.\n",
    "* Bu sorunu ortadan kaldırmak için karıştırılan sayılar ile ilgili daha farklı image'lar ekleyerek modelin daha iyi eğitilmesini sağlayabiliriz."
   ]
  }
 ],
 "metadata": {
  "kernelspec": {
   "display_name": "Python 3",
   "language": "python",
   "name": "python3"
  },
  "language_info": {
   "codemirror_mode": {
    "name": "ipython",
    "version": 3
   },
   "file_extension": ".py",
   "mimetype": "text/x-python",
   "name": "python",
   "nbconvert_exporter": "python",
   "pygments_lexer": "ipython3",
   "version": "3.7.12"
  },
  "papermill": {
   "default_parameters": {},
   "duration": 219.332749,
   "end_time": "2022-08-28T22:06:18.025407",
   "environment_variables": {},
   "exception": null,
   "input_path": "__notebook__.ipynb",
   "output_path": "__notebook__.ipynb",
   "parameters": {},
   "start_time": "2022-08-28T22:02:38.692658",
   "version": "2.3.4"
  }
 },
 "nbformat": 4,
 "nbformat_minor": 5
}
